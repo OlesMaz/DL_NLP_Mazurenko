{
 "cells": [
  {
   "cell_type": "markdown",
   "id": "c25b5bdd",
   "metadata": {},
   "source": [
    "## PyTorch exercises"
   ]
  },
  {
   "cell_type": "markdown",
   "id": "641afaab",
   "metadata": {},
   "source": [
    "### Tensors\n",
    "\n",
    "1. Make a tensor of size (2, 17)\n",
    "2. Make a torch.FloatTensor of size (3, 1)\n",
    "3. Make a torch.LongTensor of size (5, 2, 1)\n",
    "  - fill the entire tensor with 7s\n",
    "4. Make a torch.ByteTensor of size (5,)\n",
    "  - fill the middle 3 indices with ones such that it records [0, 1, 1, 1, 0]\n",
    "5. Perform a matrix multiplication of two tensors of size (2, 4) and (4, 2). Then do it in-place.\n",
    "6. Do element-wise multiplication of two randomly filled $(n_1,n_2,n_3)$ tensors. Then store the result in an Numpy array.\n",
    "\n",
    "### Forward-prop/backward-prop\n",
    "1. Create a Tensor that `requires_grad` of size (5, 5).\n",
    "2. Sum the values in the Tensor.\n",
    "3. Multiply the tensor by 2 and assign the result to a new python variable (i.e. `x = result`)\n",
    "4. Sum the variable's elements and assign to a new python variable\n",
    "5. Print the gradients of all the variables\n",
    "6. Now perform a backward pass on the last variable (NOTE: for each new python variable that you define, call `.retain_grad()`)\n",
    "7. Print all gradients again\n",
    "\n",
    "### Deep-forward NNs\n",
    "1. Use dl_lab2. In Exercise 12 there, you had to build an $L$-layer neural network with the following structure: *[LINEAR -> RELU]$\\times$(L-1) -> LINEAR -> SIGMOID*. Reimplement the manual code in PyTorch.\n",
    "2. Compare test accuracy using different optimizers: SGD, Adam, Momentum."
   ]
  },
  {
   "cell_type": "code",
   "execution_count": 1,
   "id": "65de41e0",
   "metadata": {},
   "outputs": [],
   "source": [
    "import torch\n",
    "import numpy as np\n",
    "import torchvision \n",
    "from torchvision import transforms "
   ]
  },
  {
   "cell_type": "markdown",
   "id": "098a18dd",
   "metadata": {},
   "source": [
    "### Tensors"
   ]
  },
  {
   "cell_type": "markdown",
   "id": "b7d9abe7",
   "metadata": {},
   "source": [
    "### 1."
   ]
  },
  {
   "cell_type": "code",
   "execution_count": 2,
   "id": "60fcfd9b",
   "metadata": {},
   "outputs": [
    {
     "data": {
      "text/plain": [
       "torch.Size([2, 17])"
      ]
     },
     "execution_count": 2,
     "metadata": {},
     "output_type": "execute_result"
    }
   ],
   "source": [
    "tensor1 = torch.rand(2, 17)\n",
    "tensor1.shape"
   ]
  },
  {
   "cell_type": "markdown",
   "id": "5c1f432b",
   "metadata": {},
   "source": [
    "### 2."
   ]
  },
  {
   "cell_type": "code",
   "execution_count": 3,
   "id": "8e41d044",
   "metadata": {},
   "outputs": [
    {
     "data": {
      "text/plain": [
       "torch.Size([3, 1])"
      ]
     },
     "execution_count": 3,
     "metadata": {},
     "output_type": "execute_result"
    }
   ],
   "source": [
    "tensor2 = torch.FloatTensor(3, 1)\n",
    "tensor2.shape"
   ]
  },
  {
   "cell_type": "markdown",
   "id": "14e874f2",
   "metadata": {},
   "source": [
    "### 3."
   ]
  },
  {
   "cell_type": "code",
   "execution_count": 4,
   "id": "21f59b2c",
   "metadata": {},
   "outputs": [
    {
     "data": {
      "text/plain": [
       "torch.Size([5, 2, 1])"
      ]
     },
     "execution_count": 4,
     "metadata": {},
     "output_type": "execute_result"
    }
   ],
   "source": [
    "tensor3 = torch.LongTensor(5,2,1)\n",
    "tensor3.shape"
   ]
  },
  {
   "cell_type": "code",
   "execution_count": 5,
   "id": "2b6999b8",
   "metadata": {},
   "outputs": [
    {
     "data": {
      "text/plain": [
       "tensor([[[7],\n",
       "         [7]],\n",
       "\n",
       "        [[7],\n",
       "         [7]],\n",
       "\n",
       "        [[7],\n",
       "         [7]],\n",
       "\n",
       "        [[7],\n",
       "         [7]],\n",
       "\n",
       "        [[7],\n",
       "         [7]]])"
      ]
     },
     "execution_count": 5,
     "metadata": {},
     "output_type": "execute_result"
    }
   ],
   "source": [
    "tensor3.fill_(7)\n",
    "tensor3"
   ]
  },
  {
   "cell_type": "markdown",
   "id": "3bacd504",
   "metadata": {},
   "source": [
    "### 4."
   ]
  },
  {
   "cell_type": "code",
   "execution_count": 6,
   "id": "5f7d82ec",
   "metadata": {},
   "outputs": [
    {
     "data": {
      "text/plain": [
       "torch.Size([5])"
      ]
     },
     "execution_count": 6,
     "metadata": {},
     "output_type": "execute_result"
    }
   ],
   "source": [
    "tensor4 = torch.ByteTensor(5,)\n",
    "tensor4.shape"
   ]
  },
  {
   "cell_type": "code",
   "execution_count": 7,
   "id": "b3e73cc1",
   "metadata": {},
   "outputs": [
    {
     "data": {
      "text/plain": [
       "tensor([0, 1, 1, 1, 0], dtype=torch.uint8)"
      ]
     },
     "execution_count": 7,
     "metadata": {},
     "output_type": "execute_result"
    }
   ],
   "source": [
    "tensor4[1:4] = 1\n",
    "tensor4"
   ]
  },
  {
   "cell_type": "markdown",
   "id": "bb9f30a8",
   "metadata": {},
   "source": [
    "### 5."
   ]
  },
  {
   "cell_type": "code",
   "execution_count": 8,
   "id": "644d94d8",
   "metadata": {},
   "outputs": [
    {
     "data": {
      "text/plain": [
       "tensor([[0.2328, 1.4406],\n",
       "        [0.2609, 1.4993]])"
      ]
     },
     "execution_count": 8,
     "metadata": {},
     "output_type": "execute_result"
    }
   ],
   "source": [
    "tensor1 = torch.rand(2,4)\n",
    "tensor2 = torch.rand(4,2)\n",
    "res = torch.mm(tensor1, tensor2)\n",
    "res"
   ]
  },
  {
   "cell_type": "markdown",
   "id": "45d694e4",
   "metadata": {},
   "source": [
    "and inplace"
   ]
  },
  {
   "cell_type": "code",
   "execution_count": 9,
   "id": "859f12de",
   "metadata": {},
   "outputs": [
    {
     "data": {
      "text/plain": [
       "tensor([[0.2328, 1.4406],\n",
       "        [0.2609, 1.4993]])"
      ]
     },
     "execution_count": 9,
     "metadata": {},
     "output_type": "execute_result"
    }
   ],
   "source": [
    "result_inplace = torch.empty(2, 2)\n",
    "torch.mm(tensor1, tensor2, out=result_inplace)"
   ]
  },
  {
   "cell_type": "markdown",
   "id": "36344b7e",
   "metadata": {},
   "source": [
    "### 6."
   ]
  },
  {
   "cell_type": "code",
   "execution_count": 10,
   "id": "f06656b2",
   "metadata": {},
   "outputs": [
    {
     "name": "stdout",
     "output_type": "stream",
     "text": [
      "[[[0.1169195  0.57007754 0.10199679]\n",
      "  [0.37254164 0.40750548 0.2822878 ]\n",
      "  [0.01885814 0.24536014 0.05747709]]\n",
      "\n",
      " [[0.01248141 0.5137446  0.04712676]\n",
      "  [0.0447004  0.2707699  0.724491  ]\n",
      "  [0.18739711 0.6356564  0.18517412]]\n",
      "\n",
      " [[0.53756344 0.23530062 0.04900878]\n",
      "  [0.37672505 0.12837224 0.06596268]\n",
      "  [0.16487983 0.5173877  0.2117028 ]]]\n"
     ]
    }
   ],
   "source": [
    "n1, n2, n3 = 3, 3, 3\n",
    "tensor1 = torch.rand(n1, n2, n3)\n",
    "tensor2 = torch.rand(n1, n2, n3)\n",
    "\n",
    "result_tensor = torch.mul(tensor1, tensor2)\n",
    "result_numpy = result_tensor.numpy()\n",
    "print(result_numpy)"
   ]
  },
  {
   "cell_type": "markdown",
   "id": "be0add4c",
   "metadata": {},
   "source": [
    "### Forward-prop/backward-prop"
   ]
  },
  {
   "cell_type": "markdown",
   "id": "f75d00c0",
   "metadata": {},
   "source": [
    "### 1."
   ]
  },
  {
   "cell_type": "code",
   "execution_count": 11,
   "id": "c9c98046",
   "metadata": {},
   "outputs": [
    {
     "data": {
      "text/plain": [
       "tensor([[-0.3005, -0.5556, -0.0377, -1.6562,  0.7442],\n",
       "        [ 0.2451, -0.6666, -1.1579, -0.8364, -0.8886],\n",
       "        [-0.0393, -0.9568, -2.1288,  0.3304,  1.4015],\n",
       "        [ 1.2312, -0.7286,  0.9152, -0.0161, -0.7900],\n",
       "        [ 0.3337, -0.0793,  1.9216,  0.7203,  1.5280]], requires_grad=True)"
      ]
     },
     "execution_count": 11,
     "metadata": {},
     "output_type": "execute_result"
    }
   ],
   "source": [
    "tensor1 = torch.randn(5, 5, requires_grad=True)\n",
    "tensor1"
   ]
  },
  {
   "cell_type": "markdown",
   "id": "36bf199a",
   "metadata": {},
   "source": [
    "### 2."
   ]
  },
  {
   "cell_type": "code",
   "execution_count": 12,
   "id": "aec4909b",
   "metadata": {},
   "outputs": [
    {
     "data": {
      "text/plain": [
       "-1.4672749042510986"
      ]
     },
     "execution_count": 12,
     "metadata": {},
     "output_type": "execute_result"
    }
   ],
   "source": [
    "sum_tens = torch.sum(tensor1)\n",
    "sum_tens.item()"
   ]
  },
  {
   "cell_type": "markdown",
   "id": "abaae4c6",
   "metadata": {},
   "source": [
    "### 3."
   ]
  },
  {
   "cell_type": "code",
   "execution_count": 13,
   "id": "0c44fb64",
   "metadata": {},
   "outputs": [
    {
     "data": {
      "text/plain": [
       "tensor([[-0.6010, -1.1113, -0.0754, -3.3124,  1.4883],\n",
       "        [ 0.4902, -1.3331, -2.3158, -1.6729, -1.7773],\n",
       "        [-0.0785, -1.9136, -4.2575,  0.6608,  2.8029],\n",
       "        [ 2.4623, -1.4572,  1.8304, -0.0322, -1.5800],\n",
       "        [ 0.6673, -0.1587,  3.8432,  1.4406,  3.0560]], grad_fn=<MulBackward0>)"
      ]
     },
     "execution_count": 13,
     "metadata": {},
     "output_type": "execute_result"
    }
   ],
   "source": [
    "x = tensor1 * 2\n",
    "x"
   ]
  },
  {
   "cell_type": "markdown",
   "id": "b6224fa7",
   "metadata": {},
   "source": [
    "### 4."
   ]
  },
  {
   "cell_type": "code",
   "execution_count": 14,
   "id": "a7555712",
   "metadata": {},
   "outputs": [
    {
     "data": {
      "text/plain": [
       "tensor(-2.9345, grad_fn=<SumBackward0>)"
      ]
     },
     "execution_count": 14,
     "metadata": {},
     "output_type": "execute_result"
    }
   ],
   "source": [
    "sum_x = torch.sum(x)\n",
    "sum_x"
   ]
  },
  {
   "cell_type": "markdown",
   "id": "38fa628b",
   "metadata": {},
   "source": [
    "### 5. "
   ]
  },
  {
   "cell_type": "code",
   "execution_count": 15,
   "id": "8183dfde",
   "metadata": {},
   "outputs": [
    {
     "name": "stdout",
     "output_type": "stream",
     "text": [
      "None\n",
      "None\n"
     ]
    }
   ],
   "source": [
    "x.retain_grad()\n",
    "sum_x.retain_grad()\n",
    "print(x.grad)\n",
    "print(sum_x.grad)"
   ]
  },
  {
   "cell_type": "markdown",
   "id": "9c636b57",
   "metadata": {},
   "source": [
    "### 6."
   ]
  },
  {
   "cell_type": "code",
   "execution_count": 16,
   "id": "3ef464d9",
   "metadata": {},
   "outputs": [],
   "source": [
    "sum_x.backward()"
   ]
  },
  {
   "cell_type": "markdown",
   "id": "20de5279",
   "metadata": {},
   "source": [
    "### 7."
   ]
  },
  {
   "cell_type": "code",
   "execution_count": 17,
   "id": "f1faf2c1",
   "metadata": {},
   "outputs": [
    {
     "name": "stdout",
     "output_type": "stream",
     "text": [
      "tensor([[1., 1., 1., 1., 1.],\n",
      "        [1., 1., 1., 1., 1.],\n",
      "        [1., 1., 1., 1., 1.],\n",
      "        [1., 1., 1., 1., 1.],\n",
      "        [1., 1., 1., 1., 1.]])\n",
      "tensor(1.)\n"
     ]
    }
   ],
   "source": [
    "print(x.grad)\n",
    "print(sum_x.grad)"
   ]
  },
  {
   "cell_type": "markdown",
   "id": "d42bc40d",
   "metadata": {},
   "source": [
    "### Deep-forward NNs"
   ]
  },
  {
   "cell_type": "markdown",
   "id": "e8b119eb",
   "metadata": {},
   "source": [
    "### 1."
   ]
  },
  {
   "cell_type": "code",
   "execution_count": 18,
   "id": "a9aada56",
   "metadata": {},
   "outputs": [],
   "source": [
    "import torch.nn as nn\n",
    "import torch.nn.init as init\n",
    "class DeepNeuralNetwork(nn.Module):\n",
    "    def __init__(self, layer_dims):\n",
    "        super(DeepNeuralNetwork, self).__init__()\n",
    "        self.layers = nn.ModuleList()\n",
    "        for i in range(1, len(layer_dims) - 1):\n",
    "            linear_layer = nn.Linear(layer_dims[i-1], layer_dims[i])\n",
    "            init.xavier_uniform_(linear_layer.weight)\n",
    "            self.layers.append(linear_layer)\n",
    "            self.layers.append(nn.ReLU())\n",
    "        self.layers.append(nn.Linear(layer_dims[-2], layer_dims[-1]))\n",
    "        self.layers.append(nn.Sigmoid())\n",
    "\n",
    "    def forward(self, x):\n",
    "        for layer in self.layers:\n",
    "            x = layer(x)\n",
    "        return x\n",
    "    \n",
    "    def compute_cost(self, predictions, targets):\n",
    "        criterion = nn.BCELoss()\n",
    "        return criterion(predictions, targets)\n",
    "    \n",
    "    def train_model(self, X_train, y_train, learning_rate=0.01, num_epochs=100, optimizer = \"SGD\"):\n",
    "        if optimizer == \"SGD\":\n",
    "            optimizer = optim.SGD(self.parameters(), lr=learning_rate)\n",
    "        elif optimizer == \"Adam\":\n",
    "            optimizer = optim.Adam(self.parameters(), lr=learning_rate)\n",
    "        elif optimizer >=0 and optimizer <=1:\n",
    "            optimizer = optim.SGD(self.parameters(), lr=learning_rate, momentum = optimizer)\n",
    "        for epoch in range(num_epochs):\n",
    "            optimizer.zero_grad()\n",
    "            predictions = self(X_train)\n",
    "            cost = self.compute_cost(predictions.T, y_train)\n",
    "            cost.backward()\n",
    "            optimizer.step()\n",
    "            if epoch % 100 == 0:\n",
    "                print(f'Epoch {epoch}, Cost: {cost.item()}')"
   ]
  },
  {
   "cell_type": "code",
   "execution_count": 19,
   "id": "bfe5ff39",
   "metadata": {},
   "outputs": [
    {
     "name": "stdout",
     "output_type": "stream",
     "text": [
      "train_x's shape: (209, 12288)\n",
      "test_x's shape: (50, 12288)\n"
     ]
    }
   ],
   "source": [
    "from dnn_app_utils_v3 import *\n",
    "from dnn_utils import sigmoid, sigmoid_backward, relu, relu_backward, load_data\n",
    "train_x_orig, train_y, test_x_orig, test_y, classes = load_data()\n",
    "\n",
    "# Reshape the training and test examples \n",
    "train_x_flatten = train_x_orig.reshape(train_x_orig.shape[0], -1).T   # The \"-1\" makes reshape flatten the remaining dimensions\n",
    "test_x_flatten = test_x_orig.reshape(test_x_orig.shape[0], -1).T\n",
    "\n",
    "# Standardize data to have feature values between 0 and 1.\n",
    "train_x = train_x_flatten/255.\n",
    "test_x = test_x_flatten/255.\n",
    "train_x = train_x.T\n",
    "test_x = test_x.T\n",
    "print (\"train_x's shape: \" + str(train_x.shape))\n",
    "print (\"test_x's shape: \" + str(test_x.shape))"
   ]
  },
  {
   "cell_type": "code",
   "execution_count": 20,
   "id": "5b30f415",
   "metadata": {},
   "outputs": [
    {
     "name": "stdout",
     "output_type": "stream",
     "text": [
      "y = 1. It's a cat picture.\n"
     ]
    },
    {
     "data": {
      "image/png": "[encoded data removed]",
      "text/plain": [
       "<Figure size 432x288 with 1 Axes>"
      ]
     },
     "metadata": {
      "needs_background": "light"
     },
     "output_type": "display_data"
    }
   ],
   "source": [
    "# Example of a picture\n",
    "index = 11\n",
    "plt.imshow(train_x_orig[index])\n",
    "print (\"y = \" + str(train_y[0,index]) + \". It's a \" + classes[train_y[0,index]].decode(\"utf-8\") +  \" picture.\")"
   ]
  },
  {
   "cell_type": "code",
   "execution_count": 21,
   "id": "43c788f8",
   "metadata": {},
   "outputs": [],
   "source": [
    "layers_dims = [12288, 20, 7, 5, 1] #  4-layer model\n",
    "train_x = torch.tensor(train_x).float()\n",
    "train_y = torch.tensor(train_y).float()\n",
    "test_x = torch.tensor(test_x).float()\n",
    "test_y = torch.tensor(test_y).float()"
   ]
  },
  {
   "cell_type": "code",
   "execution_count": 22,
   "id": "cdc23968",
   "metadata": {},
   "outputs": [
    {
     "name": "stdout",
     "output_type": "stream",
     "text": [
      "Epoch 0, Cost: 0.7921417355537415\n",
      "Epoch 100, Cost: 0.605525016784668\n",
      "Epoch 200, Cost: 0.503503143787384\n",
      "Epoch 300, Cost: 0.4747144281864166\n",
      "Epoch 400, Cost: 0.4210197329521179\n",
      "Epoch 500, Cost: 0.3715406358242035\n",
      "Epoch 600, Cost: 0.32757237553596497\n",
      "Epoch 700, Cost: 0.296889990568161\n",
      "Epoch 800, Cost: 0.4356524348258972\n",
      "Epoch 900, Cost: 0.10044093430042267\n",
      "Epoch 1000, Cost: 1.0608700513839722\n",
      "Epoch 1100, Cost: 0.048275090754032135\n",
      "Epoch 1200, Cost: 0.03271828219294548\n",
      "Epoch 1300, Cost: 0.023364242166280746\n",
      "Epoch 1400, Cost: 0.01766926981508732\n",
      "Epoch 1500, Cost: 0.013870556838810444\n",
      "Epoch 1600, Cost: 0.011181972920894623\n",
      "Epoch 1700, Cost: 0.009245739318430424\n",
      "Epoch 1800, Cost: 0.007775407284498215\n",
      "Epoch 1900, Cost: 0.006656476762145758\n",
      "Epoch 2000, Cost: 0.00577118992805481\n",
      "Epoch 2100, Cost: 0.00507472176104784\n",
      "Epoch 2200, Cost: 0.004500807262957096\n",
      "Epoch 2300, Cost: 0.004028468392789364\n",
      "Epoch 2400, Cost: 0.0036365280393511057\n",
      "Epoch 2500, Cost: 0.0033038421534001827\n",
      "Epoch 2600, Cost: 0.003018640913069248\n",
      "Epoch 2700, Cost: 0.0027725889813154936\n",
      "Epoch 2800, Cost: 0.002560282824561\n",
      "Epoch 2900, Cost: 0.0023740590550005436\n",
      "Epoch 3000, Cost: 0.0022096261382102966\n",
      "Epoch 3100, Cost: 0.0020637884736061096\n",
      "Epoch 3200, Cost: 0.0019346062326803803\n",
      "Epoch 3300, Cost: 0.0018180347979068756\n",
      "Epoch 3400, Cost: 0.001712739234790206\n"
     ]
    }
   ],
   "source": [
    "import torch.optim as optim\n",
    "model = DeepNeuralNetwork(layers_dims)\n",
    "\n",
    "model.train_model(train_x, train_y, learning_rate = 0.0075, num_epochs = 3500)"
   ]
  },
  {
   "cell_type": "code",
   "execution_count": 23,
   "id": "8e297768",
   "metadata": {},
   "outputs": [
    {
     "name": "stdout",
     "output_type": "stream",
     "text": [
      "-------------------- SGD optimizer --------------------\n",
      "Test Accuracy:0.72\n",
      "Train Accuracy:1.0\n"
     ]
    }
   ],
   "source": [
    "def accuracy(y_true, y_pred):\n",
    "    bin_predictions = torch.round(y_pred)\n",
    "    correct_predictions = torch.sum(bin_predictions.T == y_true)\n",
    "    accuracy = correct_predictions.item() / y_true.size(1)\n",
    "    return accuracy\n",
    "with torch.no_grad():  \n",
    "    y_test_pred = model(test_x)\n",
    "    y_train_pred = model(train_x)\n",
    "print(\"-\"*20 + \" SGD optimizer \" + \"-\"*20)\n",
    "print(f\"Test Accuracy:{accuracy(test_y, y_test_pred)}\")\n",
    "print(f\"Train Accuracy:{accuracy(train_y, y_train_pred)}\")"
   ]
  },
  {
   "cell_type": "markdown",
   "id": "ec97a99b",
   "metadata": {},
   "source": [
    "### 2."
   ]
  },
  {
   "cell_type": "markdown",
   "id": "47862620",
   "metadata": {},
   "source": [
    "Let's use Adam optimizer"
   ]
  },
  {
   "cell_type": "code",
   "execution_count": 24,
   "id": "a2ee247b",
   "metadata": {},
   "outputs": [
    {
     "name": "stdout",
     "output_type": "stream",
     "text": [
      "Epoch 0, Cost: 0.737436830997467\n",
      "Epoch 100, Cost: 0.6558946967124939\n",
      "Epoch 200, Cost: 0.6485785245895386\n",
      "Epoch 300, Cost: 0.6405375599861145\n",
      "Epoch 400, Cost: 0.46855810284614563\n",
      "Epoch 500, Cost: 0.20199616253376007\n",
      "Epoch 600, Cost: 0.018266182392835617\n",
      "Epoch 700, Cost: 0.006985791958868504\n",
      "Epoch 800, Cost: 0.003965394105762243\n",
      "Epoch 900, Cost: 0.0026962831616401672\n",
      "Epoch 1000, Cost: 0.0019024788634851575\n",
      "Epoch 1100, Cost: 0.0014455097261816263\n",
      "Epoch 1200, Cost: 0.0011354072485119104\n",
      "Epoch 1300, Cost: 0.0009162159403786063\n",
      "Epoch 1400, Cost: 0.00076035235542804\n",
      "Epoch 1500, Cost: 0.0006326824077405035\n",
      "Epoch 1600, Cost: 0.00053844612557441\n",
      "Epoch 1700, Cost: 0.00046439922880381346\n",
      "Epoch 1800, Cost: 0.0004055427561979741\n",
      "Epoch 1900, Cost: 0.0003529141249600798\n",
      "Epoch 2000, Cost: 0.00031126904650591314\n",
      "Epoch 2100, Cost: 0.00027611610130406916\n",
      "Epoch 2200, Cost: 0.00024593857233412564\n",
      "Epoch 2300, Cost: 0.00022185246052686125\n",
      "Epoch 2400, Cost: 0.00019793506362475455\n"
     ]
    }
   ],
   "source": [
    "model2 = DeepNeuralNetwork(layers_dims)\n",
    "model2.train_model(train_x, train_y, learning_rate = 0.005, num_epochs = 2500, optimizer = \"Adam\")"
   ]
  },
  {
   "cell_type": "code",
   "execution_count": 25,
   "id": "e463e1ee",
   "metadata": {},
   "outputs": [
    {
     "name": "stdout",
     "output_type": "stream",
     "text": [
      "-------------------- Adam optimizer --------------------\n",
      "Test Accuracy:0.72\n",
      "Train Accuracy:1.0\n"
     ]
    }
   ],
   "source": [
    "with torch.no_grad():  \n",
    "    y_test_pred = model2(test_x)\n",
    "    y_train_pred = model2(train_x)\n",
    "print(\"-\"*20 + \" Adam optimizer \" + \"-\"*20)\n",
    "print(f\"Test Accuracy:{accuracy(test_y, y_test_pred)}\")\n",
    "print(f\"Train Accuracy:{accuracy(train_y, y_train_pred)}\")"
   ]
  },
  {
   "cell_type": "markdown",
   "id": "ffd1a49f",
   "metadata": {},
   "source": [
    "Let's use Momentum optimizer"
   ]
  },
  {
   "cell_type": "code",
   "execution_count": 26,
   "id": "bdb3d309",
   "metadata": {},
   "outputs": [
    {
     "name": "stdout",
     "output_type": "stream",
     "text": [
      "Epoch 0, Cost: 0.7483354210853577\n",
      "Epoch 100, Cost: 0.6151711940765381\n",
      "Epoch 200, Cost: 0.46447768807411194\n",
      "Epoch 300, Cost: 0.3195006549358368\n",
      "Epoch 400, Cost: 0.29304638504981995\n",
      "Epoch 500, Cost: 0.19312447309494019\n",
      "Epoch 600, Cost: 0.21074864268302917\n",
      "Epoch 700, Cost: 0.15577033162117004\n",
      "Epoch 800, Cost: 0.1353461593389511\n",
      "Epoch 900, Cost: 0.08252840489149094\n",
      "Epoch 1000, Cost: 0.028079751878976822\n",
      "Epoch 1100, Cost: 0.011659007519483566\n",
      "Epoch 1200, Cost: 0.007541985251009464\n",
      "Epoch 1300, Cost: 0.005637288559228182\n",
      "Epoch 1400, Cost: 0.004510965663939714\n",
      "Epoch 1500, Cost: 0.00374523620121181\n",
      "Epoch 1600, Cost: 0.0031947914976626635\n",
      "Epoch 1700, Cost: 0.0027768348809331656\n",
      "Epoch 1800, Cost: 0.002447043312713504\n",
      "Epoch 1900, Cost: 0.0021816077642142773\n",
      "Epoch 2000, Cost: 0.0019636894576251507\n",
      "Epoch 2100, Cost: 0.0017821597866714\n",
      "Epoch 2200, Cost: 0.0016294120578095317\n",
      "Epoch 2300, Cost: 0.0014982465654611588\n",
      "Epoch 2400, Cost: 0.001384860253892839\n",
      "Epoch 2500, Cost: 0.001285953912883997\n",
      "Epoch 2600, Cost: 0.001198762096464634\n",
      "Epoch 2700, Cost: 0.0011215073755010962\n",
      "Epoch 2800, Cost: 0.0010526501573622227\n",
      "Epoch 2900, Cost: 0.0009915500413626432\n"
     ]
    }
   ],
   "source": [
    "model3 = DeepNeuralNetwork(layers_dims)\n",
    "model3.train_model(train_x, train_y, learning_rate = 0.007, num_epochs = 3000, optimizer = 0.5)"
   ]
  },
  {
   "cell_type": "code",
   "execution_count": 27,
   "id": "ccde082b",
   "metadata": {},
   "outputs": [
    {
     "name": "stdout",
     "output_type": "stream",
     "text": [
      "-------------------- Momentum optimizer --------------------\n",
      "Test Accuracy:0.78\n",
      "Train Accuracy:1.0\n"
     ]
    }
   ],
   "source": [
    "with torch.no_grad():  \n",
    "    y_test_pred = model3(test_x)\n",
    "    y_train_pred = model3(train_x)\n",
    "print(\"-\"*20 + \" Momentum optimizer \" + \"-\"*20)\n",
    "print(f\"Test Accuracy:{accuracy(test_y, y_test_pred)}\")\n",
    "print(f\"Train Accuracy:{accuracy(train_y, y_train_pred)}\")"
   ]
  },
  {
   "cell_type": "markdown",
   "id": "5d0940f4",
   "metadata": {},
   "source": [
    "### Results"
   ]
  },
  {
   "cell_type": "markdown",
   "id": "cb4e1cb2",
   "metadata": {},
   "source": [
    "<table> \n",
    "    <tr>\n",
    "        <td>\n",
    "        <b>optimization method</b>\n",
    "        </td>\n",
    "        <td>\n",
    "        <b>accuracy</b>\n",
    "        </td>\n",
    "    </tr>\n",
    "        <td>\n",
    "        Gradient descent\n",
    "        </td>\n",
    "        <td>\n",
    "        72%\n",
    "        </td>\n",
    "    <tr>\n",
    "        <td>\n",
    "        Momentum\n",
    "        </td>\n",
    "        <td>\n",
    "        78%\n",
    "        </td>\n",
    "    </tr>\n",
    "    <tr>\n",
    "        <td>\n",
    "        Adam\n",
    "        </td>\n",
    "        <td>\n",
    "        72%\n",
    "        </td>\n",
    "    </tr>\n",
    "</table> "
   ]
  }
 ],
 "metadata": {
  "kernelspec": {
   "display_name": "Python 3 (ipykernel)",
   "language": "python",
   "name": "python3"
  },
  "language_info": {
   "codemirror_mode": {
    "name": "ipython",
    "version": 3
   },
   "file_extension": ".py",
   "mimetype": "text/x-python",
   "name": "python",
   "nbconvert_exporter": "python",
   "pygments_lexer": "ipython3",
   "version": "3.9.12"
  }
 },
 "nbformat": 4,
 "nbformat_minor": 5
}
